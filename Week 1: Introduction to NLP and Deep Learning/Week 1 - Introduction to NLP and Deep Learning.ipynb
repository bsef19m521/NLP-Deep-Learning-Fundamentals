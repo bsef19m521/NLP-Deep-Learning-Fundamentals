{
 "cells": [
  {
   "cell_type": "markdown",
   "id": "3ee7328e",
   "metadata": {},
   "source": [
    "### Overview of Natural Language Processing (NLP) and its applications\n",
    "\n",
    "<figure>\n",
    "<img src=\"images/j1.jpg\">\n",
    "    \n",
    "Image source: [Link to source](https://www.google.com/url?sa=i&url=https%3A%2F%2Fsubscription.packtpub.com%2Fbook%2Fdata%2F9781838550295%2F1%2Fch01lvl1sec04%2Fapplications-of-natural-language-processing&psig=AOvVaw1jTunC3MeeYfHfFcWzuozV&ust=1674721897007000&source=images&cd=vfe&ved=0CBIQ3YkBahcKEwjg-u-wp-L8AhUAAAAAHQAAAAAQAw)\n",
    "</figure>\n"
   ]
  },
  {
   "cell_type": "code",
   "execution_count": null,
   "id": "46a301d3",
   "metadata": {},
   "outputs": [],
   "source": []
  },
  {
   "cell_type": "code",
   "execution_count": null,
   "id": "26715925",
   "metadata": {},
   "outputs": [],
   "source": []
  },
  {
   "cell_type": "code",
   "execution_count": null,
   "id": "64fc896c",
   "metadata": {},
   "outputs": [],
   "source": []
  },
  {
   "cell_type": "code",
   "execution_count": null,
   "id": "27018993",
   "metadata": {},
   "outputs": [],
   "source": []
  },
  {
   "cell_type": "code",
   "execution_count": null,
   "id": "f894c26f",
   "metadata": {},
   "outputs": [],
   "source": []
  }
 ],
 "metadata": {
  "kernelspec": {
   "display_name": "Python 3 (ipykernel)",
   "language": "python",
   "name": "python3"
  },
  "language_info": {
   "codemirror_mode": {
    "name": "ipython",
    "version": 3
   },
   "file_extension": ".py",
   "mimetype": "text/x-python",
   "name": "python",
   "nbconvert_exporter": "python",
   "pygments_lexer": "ipython3",
   "version": "3.8.10"
  }
 },
 "nbformat": 4,
 "nbformat_minor": 5
}
