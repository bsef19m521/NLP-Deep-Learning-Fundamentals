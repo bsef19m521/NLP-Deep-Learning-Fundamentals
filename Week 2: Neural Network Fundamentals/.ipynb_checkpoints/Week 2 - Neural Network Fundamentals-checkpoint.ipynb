{
 "cells": [
  {
   "cell_type": "markdown",
   "id": "14885e18",
   "metadata": {},
   "source": [
    "## Week 2: Neural Network Fundamentals\n",
    "\n",
    "- Introduction to neural networks and its architecture\n",
    "- Understanding of Perceptrons and Multi-layer perceptrons (MLP)\n",
    "- Understanding of activation functions and their role in neural networks\n",
    "- Introduction to backpropagation and gradient descent optimization algorithms\n",
    "- Understanding of overfitting and regularization techniques to prevent it\n",
    "- Understanding of Convolutional Neural Networks (CNN) and its application in NLP\n",
    "- Understanding of Recurrent Neural Networks (RNN) and its variants such as LSTM and GRU\n",
    "- Introduction to Transformer architecture and its application in NLP\n",
    "- Understanding of Generative models such as GAN and VAE\n",
    "- Understanding of Autoencoder and its application in NLP\n",
    "- Understanding of Reinforcement learning and its application in NLP\n",
    "- Introduction to Hyperparameter tuning and its importance in neural networks\n",
    "- Understanding of Batch normalization and Dropout for improving the performance of neural networks."
   ]
  },
  {
   "cell_type": "markdown",
   "id": "047060ef",
   "metadata": {},
   "source": [
    "# Introduction to neural networks and its architecture\n",
    "\n",
    "- Neural networks are a type of machine learning model that is designed to recognize complex patterns and relationships within data. These models are inspired by the structure and function of the human brain, and consist of interconnected nodes or \"neurons\" that work together to perform a specific task.\n",
    "\n",
    "- The architecture of a neural network refers to the overall structure and design of the model. It is made up of layers of interconnected neurons that process and transform data in a hierarchical manner. Each layer typically consists of a set of neurons that receive input from the previous layer and produce output for the next layer.\n",
    "\n",
    "- There are several types of layers in a neural network, including input layers, hidden layers, and output layers. The input layer is where the data is first introduced into the network, and the output layer is where the final prediction or decision is made. The hidden layers, which may be one or more, process the data through a series of transformations and feature extractions.\n",
    "\n",
    "- The neurons in each layer are connected to one another by weights, which are adjusted during the training process to optimize the performance of the model. The weights determine the strength of the connections between neurons, and are learned through an iterative process of forward and backward propagation called backpropagation.\n",
    "\n",
    "- The architecture of a neural network can vary widely depending on the task it is designed to perform and the complexity of the data. Some common types of neural network architectures include feedforward neural networks, convolutional neural networks, and recurrent neural networks, which are specialized for processing different types of data such as images, text, and time series."
   ]
  },
  {
   "cell_type": "markdown",
   "id": "e9028dca",
   "metadata": {},
   "source": [
    "### First Neural Network using Keras"
   ]
  },
  {
   "cell_type": "code",
   "execution_count": 4,
   "id": "a510521f",
   "metadata": {},
   "outputs": [],
   "source": [
    "# import required libraries\n",
    "import numpy as np\n",
    "import keras\n",
    "from keras.models import Sequential\n",
    "from keras.layers import Dense\n"
   ]
  },
  {
   "cell_type": "code",
   "execution_count": 10,
   "id": "8e3c6fd3",
   "metadata": {},
   "outputs": [],
   "source": [
    "# load data\n",
    "from sklearn.datasets import load_iris\n",
    "iris = load_iris()\n",
    "X = iris.data\n",
    "y = iris.target"
   ]
  },
  {
   "cell_type": "code",
   "execution_count": 7,
   "id": "5c6d92e2",
   "metadata": {},
   "outputs": [],
   "source": []
  },
  {
   "cell_type": "code",
   "execution_count": 11,
   "id": "a4762dc7",
   "metadata": {},
   "outputs": [],
   "source": [
    "# split the dataset into training and testing\n",
    "\n",
    "from sklearn.model_selection import train_test_split\n",
    "\n",
    "X_train, X_test, y_train, y_test = train_test_split(X, y, test_size=0.2, random_state=42)\n"
   ]
  },
  {
   "cell_type": "code",
   "execution_count": null,
   "id": "849affad",
   "metadata": {},
   "outputs": [],
   "source": []
  },
  {
   "cell_type": "code",
   "execution_count": 13,
   "id": "f1e5e095",
   "metadata": {},
   "outputs": [],
   "source": [
    "#  Define the Neural Network Architecture\n",
    "model = Sequential()\n",
    "model.add(Dense(10, input_dim=4, activation='relu'))\n",
    "model.add(Dense(3, activation='softmax'))\n"
   ]
  },
  {
   "cell_type": "code",
   "execution_count": 14,
   "id": "641a5607",
   "metadata": {},
   "outputs": [],
   "source": [
    "# Compile the Model\n",
    "model.compile(loss='sparse_categorical_crossentropy', optimizer='adam', metrics=['accuracy'])\n"
   ]
  },
  {
   "cell_type": "code",
   "execution_count": 15,
   "id": "8200c162",
   "metadata": {},
   "outputs": [
    {
     "data": {
      "text/plain": [
       "<keras.callbacks.History at 0x7eff24e406d0>"
      ]
     },
     "execution_count": 15,
     "metadata": {},
     "output_type": "execute_result"
    }
   ],
   "source": [
    "# Train the model\n",
    "model.fit(X_train, y_train, epochs=1000, verbose=0)\n"
   ]
  },
  {
   "cell_type": "code",
   "execution_count": 16,
   "id": "8304f7e7",
   "metadata": {},
   "outputs": [
    {
     "name": "stdout",
     "output_type": "stream",
     "text": [
      "1/1 [==============================] - 0s 111ms/step - loss: 0.0780 - accuracy: 0.9667\n",
      "\n",
      "accuracy: 96.67%\n"
     ]
    }
   ],
   "source": [
    "scores = model.evaluate(X_test, y_test)\n",
    "print(\"\\n%s: %.2f%%\" % (model.metrics_names[1], scores[1]*100))"
   ]
  },
  {
   "cell_type": "code",
   "execution_count": null,
   "id": "9a3cac4c",
   "metadata": {},
   "outputs": [],
   "source": []
  }
 ],
 "metadata": {
  "kernelspec": {
   "display_name": "Python 3 (ipykernel)",
   "language": "python",
   "name": "python3"
  },
  "language_info": {
   "codemirror_mode": {
    "name": "ipython",
    "version": 3
   },
   "file_extension": ".py",
   "mimetype": "text/x-python",
   "name": "python",
   "nbconvert_exporter": "python",
   "pygments_lexer": "ipython3",
   "version": "3.8.10"
  }
 },
 "nbformat": 4,
 "nbformat_minor": 5
}
